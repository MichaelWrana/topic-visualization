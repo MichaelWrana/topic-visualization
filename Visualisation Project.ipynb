{
 "cells": [
  {
   "cell_type": "code",
   "execution_count": 1,
   "id": "499ca1b5",
   "metadata": {},
   "outputs": [],
   "source": [
    "import pytrends\n",
    "import webbrowser, os\n",
    "import time\n",
    "import requests\n",
    "import numpy as np\n",
    "import json\n",
    "\n",
    "import xml.etree.ElementTree as ET\n",
    "from tqdm.notebook import tqdm\n",
    "from pytrends.request import TrendReq"
   ]
  },
  {
   "cell_type": "code",
   "execution_count": 2,
   "id": "8f8276c3",
   "metadata": {},
   "outputs": [],
   "source": [
    "'''\n",
    "term: a length 1 array containing a string to be searched\n",
    "years: an array of strings containing years to be searched\n",
    "'''\n",
    "def get_trends(term, years, pytrends=TrendReq()):\n",
    "    # get results and remove incomplete entries\n",
    "    timeframe = years[0] + '-01-01 ' + years[-1] + '-12-31'\n",
    "    \n",
    "    # get dataframe and re-format to numpy\n",
    "    pytrends.build_payload(term, timeframe=timeframe)\n",
    "    df = pytrends.interest_over_time()\n",
    "    df = df.drop(df[df.isPartial].index)\n",
    "    np_data = df.drop('isPartial', axis=1).to_numpy()\n",
    "    \n",
    "    # wait 5 seconds so google doesnt block me\n",
    "    time.sleep(5)\n",
    "    \n",
    "    # split the data into years, and get the max of each year\n",
    "    # basically, return an array with the highest trend score in that year\n",
    "    \n",
    "    return [np.amax(x.flatten()) for x in np.split(np_data,len(years))]"
   ]
  },
  {
   "cell_type": "code",
   "execution_count": 3,
   "id": "8773aa57",
   "metadata": {},
   "outputs": [],
   "source": [
    "'''\n",
    "term: a length 1 array containing a string to be searched\n",
    "years: an array of strings containing years to be searched\n",
    "'''\n",
    "def get_dblp(term, years):\n",
    "    # setup query variables and result array\n",
    "    api_base = 'https://dblp.org/search/publ/api'\n",
    "    result = []\n",
    "    \n",
    "    search_term = '?q=' + term[0].replace(' ', '+') + '+'\n",
    "    term_result = []\n",
    "    \n",
    "    for year in years:\n",
    "        year_term = 'year:' + year + ':'\n",
    "        # make request and extract total number of hits\n",
    "        html = requests.get(api_base + search_term + year_term).text\n",
    "        result.append(ET.fromstring(html).find('./hits').attrib['total'])\n",
    "        \n",
    "    \n",
    "    # conver to integer and normalize on 1-100 (like google trends)\n",
    "    result = [int(i) for i in result]\n",
    "    max_r = max(result)\n",
    "    normalized_result = [round(i/max_r * 100) for i in result]\n",
    "    return normalized_result"
   ]
  },
  {
   "cell_type": "code",
   "execution_count": 4,
   "id": "e95cc3cc",
   "metadata": {},
   "outputs": [],
   "source": [
    "def scrape_data(terms, years):\n",
    "    # setup variables\n",
    "    trends_res = []\n",
    "    dblp_res = []\n",
    "    \n",
    "    # make API/Scrape requests, and collect in array\n",
    "    for term in tqdm(terms): \n",
    "        trends_res.append(get_trends(term, years))\n",
    "        dblp_res.append(get_dblp(term, years))\n",
    "    return trends_res, dblp_res"
   ]
  },
  {
   "cell_type": "code",
   "execution_count": 5,
   "id": "9f510021",
   "metadata": {},
   "outputs": [],
   "source": [
    "def get_chart1_dataset(i, trends_data, dblp_data):\n",
    "    trends_dset = {\n",
    "        'label': \"Google Trends\",\n",
    "        'data': [int(x) for x in trends_data[i]],\n",
    "        'borderColor': 'rgba(255,0,0,1)',\n",
    "        'backgroundColor': 'rgba(255,0,0,0.5)',\n",
    "        'fill': True\n",
    "    }\n",
    "    dblp_dset = {\n",
    "        'label': \"DBLP\",\n",
    "        'data': [int(x) for x in dblp_data[i]],\n",
    "        'borderColor': 'rgba(0,0,255,1)',\n",
    "        'backgroundColor': 'rgba(0,0,255,0.5)',\n",
    "        'fill': True\n",
    "    } \n",
    "    return [trends_dset, dblp_dset]"
   ]
  },
  {
   "cell_type": "code",
   "execution_count": 6,
   "id": "766c3ec4",
   "metadata": {},
   "outputs": [],
   "source": [
    "def processC1(terms, years, trends_data, dblp_data):\n",
    "    chart1 = []\n",
    "    i=0\n",
    "\n",
    "    for term in terms:\n",
    "        data = {\n",
    "            'name': term[0],\n",
    "            'labels': years,\n",
    "            'datasets': get_chart1_dataset(i, trends_data, dblp_data)\n",
    "        }\n",
    "        chart1.append(data)\n",
    "        i+=1\n",
    "\n",
    "    return chart1"
   ]
  },
  {
   "cell_type": "code",
   "execution_count": 7,
   "id": "618f2051",
   "metadata": {},
   "outputs": [],
   "source": [
    "def processC2(terms, years, difference):\n",
    "    chart2 = []\n",
    "    i=0\n",
    "\n",
    "    for term in terms:\n",
    "        data = {\n",
    "            'name': term[0],\n",
    "            'labels': years,\n",
    "            'datasets': [{\n",
    "                'label': term[0],\n",
    "                'data': [int(x) for x in difference[i]],\n",
    "                'borderColor': 'rgba(255,0,255,1)',\n",
    "                'backgroundColor': 'rgba(255,0,255,0.5)',\n",
    "                'fill': {\n",
    "                    'above': 'blue',\n",
    "                    'below': 'red',\n",
    "                    'target': {'value': 0},\n",
    "                },\n",
    "            }],\n",
    "        }\n",
    "        chart2.append(data)\n",
    "        i+=1\n",
    "    \n",
    "    return chart2"
   ]
  },
  {
   "cell_type": "code",
   "execution_count": 8,
   "id": "1650b8eb",
   "metadata": {},
   "outputs": [],
   "source": [
    "def get_chart3_dataset(terms, sum_score):\n",
    "    colors = ['#301A4B', '#6DB1BF', '#FFEAEC', '#F39A9D', '#3F6C51']\n",
    "    datasets = []\n",
    "    i=0\n",
    "    for term in terms:\n",
    "        dataset = {\n",
    "            'label': term[0],\n",
    "            'data': [int(x) for x in sum_score[i]],\n",
    "            'backgroundColor': colors[i % (len(colors)-1)],\n",
    "        }\n",
    "        i+=1\n",
    "        datasets.append(dataset)\n",
    "    return datasets"
   ]
  },
  {
   "cell_type": "code",
   "execution_count": 9,
   "id": "b159b59d",
   "metadata": {},
   "outputs": [],
   "source": [
    "def processC3(terms,years, sum_score):\n",
    "    chart3 = []\n",
    "    data = {\n",
    "        'labels': years,\n",
    "        'datasets': get_chart3_dataset(terms, sum_score)\n",
    "    }\n",
    "    chart3.append(data)\n",
    "    \n",
    "    return chart3"
   ]
  },
  {
   "cell_type": "code",
   "execution_count": 10,
   "id": "40c4fc73",
   "metadata": {},
   "outputs": [],
   "source": [
    "def get_colors(number_list):\n",
    "    # largest to smallest\n",
    "    negative_c = ['#F6BDC0', '#F1959B', '#F07470', '#EA4C46', '#DC1C13'][::-1]\n",
    "    positive_c = ['#A3A3FF', '#7879FF', '#4949FF', '#1F1FFF', '#0000FF'][::-1]\n",
    "    positives = 0\n",
    "    negatives = 0\n",
    "    colorArray = [''] * len(number_list)\n",
    "    \n",
    "    for index in np.argsort(number_list):\n",
    "        if(number_list[index] < 0):\n",
    "            #print(\"Setting Color of \" + str(number_list[index]) + \" to \" + negative_c[negatives % len(negative_c)])\n",
    "            colorArray[index] = negative_c[negatives % len(negative_c)]\n",
    "            negatives +=1\n",
    "        else:\n",
    "            #print(\"Setting Color of \" + str(number_list[index]) + \" to \" + positive_c[positives % len(positive_c)])\n",
    "            colorArray[index] = positive_c[positives % len(positive_c)]\n",
    "            positives +=1\n",
    "    \n",
    "    return colorArray"
   ]
  },
  {
   "cell_type": "code",
   "execution_count": 11,
   "id": "b1e8c10e",
   "metadata": {},
   "outputs": [],
   "source": [
    "def processC4(terms, years, difference_yearly):\n",
    "    chart4 = []\n",
    "\n",
    "    i=0\n",
    "    for year in years:\n",
    "        data = {\n",
    "            'name': str(year),\n",
    "            'labels': np.asarray(terms).flatten().tolist(),\n",
    "            'datasets': [{\n",
    "                'label': str(year),\n",
    "                'data': [int(x) for x in difference_yearly[i]],\n",
    "                'backgroundColor': get_colors(difference_yearly[i])\n",
    "            }]\n",
    "        }\n",
    "        chart4.append(data)\n",
    "        i+=1\n",
    "    \n",
    "    return chart4"
   ]
  },
  {
   "cell_type": "code",
   "execution_count": 12,
   "id": "53b5d35c",
   "metadata": {},
   "outputs": [],
   "source": [
    "def process_data(terms, years, trends_data, dblp_data):\n",
    "    difference = np.subtract(trends_data, dblp_data).tolist()\n",
    "    sum_score = np.add(trends_data, dblp_data).tolist()\n",
    "    difference_yearly = np.swapaxes(difference, 0, 1)\n",
    "    \n",
    "    chart1 = processC1(terms, years, trends_data, dblp_data)\n",
    "    chart2 = processC2(terms, years, difference)\n",
    "    chart3 = processC3(terms, years, sum_score)\n",
    "    chart4 = processC4(terms, years, difference_yearly)\n",
    "    return chart1, chart2, chart3, chart4 "
   ]
  },
  {
   "cell_type": "code",
   "execution_count": 13,
   "id": "a07ad22c",
   "metadata": {},
   "outputs": [],
   "source": [
    "def write_to_json(chart1, chart2, chart3, chart4):\n",
    "    with open('html/data.js', 'w', encoding='utf-8') as f:\n",
    "        f.write('const data_c1 = ')\n",
    "        json.dump(chart1, f, ensure_ascii=False, indent=4)\n",
    "        f.write(';\\n')\n",
    "        f.write('const data_c2 = ')\n",
    "        json.dump(chart2, f, ensure_ascii=False, indent=4)\n",
    "        f.write(';\\n')\n",
    "        f.write('const data_c3 = ')\n",
    "        json.dump(chart3, f, ensure_ascii=False, indent=4)\n",
    "        f.write(';\\n')\n",
    "        f.write('const data_c4 = ')\n",
    "        json.dump(chart4, f, ensure_ascii=False, indent=4)\n",
    "        f.write(';\\n')"
   ]
  },
  {
   "cell_type": "code",
   "execution_count": 14,
   "id": "f89cb540",
   "metadata": {},
   "outputs": [
    {
     "name": "stdout",
     "output_type": "stream",
     "text": [
      "Enter a List of comma-ceparated Search Terms (empty for default):\n",
      "Enter a List of comma-separated years (empty for default):\n"
     ]
    }
   ],
   "source": [
    "user_terms = input(\"Enter a List of comma-ceparated Search Terms (empty for default):\")\n",
    "if(user_terms):\n",
    "    terms = [[x.strip()] for x in user_terms.split(',')]\n",
    "else:\n",
    "    terms = [['machine learning'],['artificial intelligence'],['robotics'],['natural language processing'],['networking']]\n",
    "\n",
    "user_years = input(\"Enter a List of comma-separated years (empty for default):\")\n",
    "\n",
    "if(user_years):\n",
    "    years = [x.strip() for x in user_years.split(',')]\n",
    "else:\n",
    "    years=[str(2010+i) for i in range(11)]"
   ]
  },
  {
   "cell_type": "code",
   "execution_count": 15,
   "id": "0aa00d65",
   "metadata": {},
   "outputs": [
    {
     "name": "stdout",
     "output_type": "stream",
     "text": [
      "Collecting Data For: ['machine learning', 'artificial intelligence', 'Robotics', 'natural language processing', 'Networking']...\n"
     ]
    },
    {
     "data": {
      "application/vnd.jupyter.widget-view+json": {
       "model_id": "edd9c65ff8e9489a96e22b7e5c0ff035",
       "version_major": 2,
       "version_minor": 0
      },
      "text/plain": [
       "  0%|          | 0/5 [00:00<?, ?it/s]"
      ]
     },
     "metadata": {},
     "output_type": "display_data"
    },
    {
     "name": "stdout",
     "output_type": "stream",
     "text": [
      "Processing into Javascript...\n"
     ]
    }
   ],
   "source": [
    "print(\"Collecting Data For: \" + str(np.array(terms).flatten().tolist()) + \"...\")\n",
    "\n",
    "trends_data, dblp_data = scrape_data(terms, years)\n",
    "\n",
    "print(\"Processing into Javascript...\")\n",
    "\n",
    "chart1, chart2, chart3, chart4 = process_data(terms, years, trends_data, dblp_data)\n",
    "write_to_json(chart1, chart2, chart3, chart4)"
   ]
  }
 ],
 "metadata": {
  "kernelspec": {
   "display_name": "Python [conda env:root] *",
   "language": "python",
   "name": "conda-root-py"
  },
  "language_info": {
   "codemirror_mode": {
    "name": "ipython",
    "version": 3
   },
   "file_extension": ".py",
   "mimetype": "text/x-python",
   "name": "python",
   "nbconvert_exporter": "python",
   "pygments_lexer": "ipython3",
   "version": "3.9.12"
  }
 },
 "nbformat": 4,
 "nbformat_minor": 5
}
